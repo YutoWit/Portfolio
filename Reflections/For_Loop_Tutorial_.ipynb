{
  "nbformat": 4,
  "nbformat_minor": 0,
  "metadata": {
    "colab": {
      "provenance": []
    },
    "kernelspec": {
      "name": "python3",
      "display_name": "Python 3"
    },
    "language_info": {
      "name": "python"
    }
  },
  "cells": [
    {
      "cell_type": "markdown",
      "source": [
        "# Tutorial for Begginers on Creating For Loops"
      ],
      "metadata": {
        "id": "Iyx6NL2k4xNs"
      }
    },
    {
      "cell_type": "markdown",
      "source": [
        "1. What is a for loop and what is it used for\n",
        "2. How to create one\n",
        "3. Do it yourself\n",
        "-------------------------------------------------------------"
      ],
      "metadata": {
        "id": "8ypk5Bx8BOBJ"
      }
    },
    {
      "cell_type": "markdown",
      "source": [
        "\n",
        "1.   A loop is a good way to go through lists and perform actions on each item.\n",
        "2.   A basic for loop only requires two lines, the first one is \"for x in list\" and the second line is whatever code you want performed with the variable.\n",
        "\n"
      ],
      "metadata": {
        "id": "eAc32ScuC_d9"
      }
    },
    {
      "cell_type": "code",
      "source": [
        "shoe_brands = (\"Reebok\", \"Nike\", \"Adidas\", \"Puma\", \"Hoka\", \"Timberland\", \"DC\", \"Converse\")\n",
        "\n",
        "for brand in shoe_brands:\n",
        "  print(\"I wear \" + brand + \" shoes\")"
      ],
      "metadata": {
        "colab": {
          "base_uri": "https://localhost:8080/"
        },
        "id": "QcWj3fb9EmjK",
        "outputId": "158ee890-5257-4b5e-cd43-aa317d5f9556"
      },
      "execution_count": 4,
      "outputs": [
        {
          "output_type": "stream",
          "name": "stdout",
          "text": [
            "I wear Reebok shoes\n",
            "I wear Nike shoes\n",
            "I wear Adidas shoes\n",
            "I wear Puma shoes\n",
            "I wear Hoka shoes\n",
            "I wear Timberland shoes\n",
            "I wear DC shoes\n",
            "I wear Converse shoes\n"
          ]
        }
      ]
    },
    {
      "cell_type": "markdown",
      "source": [
        "1.You can also press enter after the first line of code and write \"else:\" to add and else statment which can be seen below"
      ],
      "metadata": {
        "id": "ykHQLdzDGCv3"
      }
    },
    {
      "cell_type": "code",
      "source": [
        "years = (2000,1999,2005,2006,2001,2008,2002,1997,1989,1993)\n",
        "\n",
        "for year in years:\n",
        "  if year > 2003:\n",
        "     print(\"They cannot drink alohol\")\n",
        "  else:\n",
        "     print(\"They can drink alcohol\")"
      ],
      "metadata": {
        "colab": {
          "base_uri": "https://localhost:8080/"
        },
        "id": "alqSQ0YuX75R",
        "outputId": "9f52a80a-e554-4d30-bf7d-6bbb2d88aeaf"
      },
      "execution_count": 1,
      "outputs": [
        {
          "output_type": "stream",
          "name": "stdout",
          "text": [
            "They can drink alcohol\n",
            "They can drink alcohol\n",
            "They cannot drink alohol\n",
            "They cannot drink alohol\n",
            "They can drink alcohol\n",
            "They cannot drink alohol\n",
            "They can drink alcohol\n",
            "They can drink alcohol\n",
            "They can drink alcohol\n",
            "They can drink alcohol\n"
          ]
        }
      ]
    },
    {
      "cell_type": "markdown",
      "source": [
        "1. If you want to number the items in a list you can enumerate them"
      ],
      "metadata": {
        "id": "hy1eRyfAZN2G"
      }
    },
    {
      "cell_type": "code",
      "source": [
        "for number, brand in enumerate(shoe_brands):\n",
        "  print(number, brand)"
      ],
      "metadata": {
        "colab": {
          "base_uri": "https://localhost:8080/"
        },
        "id": "M3yNyi-gbs3c",
        "outputId": "a2dc44f9-ae3e-49a9-dd19-b1f002d2d289"
      },
      "execution_count": 13,
      "outputs": [
        {
          "output_type": "stream",
          "name": "stdout",
          "text": [
            "0 Reebok\n",
            "1 Nike\n",
            "2 Adidas\n",
            "3 Puma\n",
            "4 Hoka\n",
            "5 Timberland\n",
            "6 DC\n",
            "7 Converse\n"
          ]
        }
      ]
    },
    {
      "cell_type": "markdown",
      "source": [
        "1. Next lets see you give it a shot.\n",
        "2. Remember indentation in for loops matters and don't forget the colon.\n",
        "3. Using the \"years\" list create a for loop that can seperate the years before 2000 and after 2000."
      ],
      "metadata": {
        "id": "Vbe2_j6Qc6Ce"
      }
    },
    {
      "cell_type": "code",
      "source": [
        "## your code\n",
        "\n"
      ],
      "metadata": {
        "id": "MQIR1LnAJFro"
      },
      "execution_count": null,
      "outputs": []
    }
  ]
}